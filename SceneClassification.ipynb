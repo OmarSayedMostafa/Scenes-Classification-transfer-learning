{
 "cells": [
  {
   "cell_type": "markdown",
   "metadata": {
    "heading_collapsed": true
   },
   "source": [
    "# get the dataset from google Drive"
   ]
  },
  {
   "cell_type": "code",
   "execution_count": 1,
   "metadata": {
    "hidden": true
   },
   "outputs": [],
   "source": [
    "# file_id=1cDieWzU-c_QTXK3U35qV0AoGpxXhCO6r"
   ]
  },
  {
   "cell_type": "code",
   "execution_count": 2,
   "metadata": {
    "hidden": true,
    "scrolled": true
   },
   "outputs": [],
   "source": [
    "# !wget --load-cookies /tmp/cookies.txt \"https://docs.google.com/uc?export=download&confirm=$(wget --quiet --save-cookies /tmp/cookies.txt --keep-session-cookies --no-check-certificate 'https://docs.google.com/uc?export=download&id=1cDieWzU-c_QTXK3U35qV0AoGpxXhCO6r' -O- | sed -rn 's/.*confirm=([0-9A-Za-z_]+).*/\\1\\n/p')&id=1cDieWzU-c_QTXK3U35qV0AoGpxXhCO6r\" -O dataset.rar && rm -rf /tmp/cookies.txt"
   ]
  },
  {
   "cell_type": "markdown",
   "metadata": {
    "heading_collapsed": true,
    "hidden": true
   },
   "source": [
    "## unrar the downloaded dataset"
   ]
  },
  {
   "cell_type": "code",
   "execution_count": 1,
   "metadata": {
    "hidden": true
   },
   "outputs": [],
   "source": [
    "# !unrar x dataset.rar \n",
    "# !unrar x train.rar\n",
    "# !unrar x test.rar\n",
    "# !rm -rf dataset.rar train.rar test.rar\n",
    "# mkdir dataset && mv test train -t dataset"
   ]
  },
  {
   "cell_type": "markdown",
   "metadata": {
    "heading_collapsed": true,
    "hidden": true
   },
   "source": [
    "## take a look at train and validations directories"
   ]
  },
  {
   "cell_type": "code",
   "execution_count": 4,
   "metadata": {
    "hidden": true
   },
   "outputs": [
    {
     "name": "stdout",
     "output_type": "stream",
     "text": [
      "\u001b[0m\u001b[48;5;10;38;5;21mairport_inside\u001b[0m/  \u001b[48;5;10;38;5;21moperating_room\u001b[0m/\r\n",
      "\u001b[48;5;10;38;5;21mbakery\u001b[0m/          \u001b[48;5;10;38;5;21mpoolinside\u001b[0m/\r\n",
      "\u001b[48;5;10;38;5;21mbedroom\u001b[0m/         \u001b[48;5;10;38;5;21mrestaurant\u001b[0m/\r\n",
      "\u001b[48;5;10;38;5;21mgreenhouse\u001b[0m/      \u001b[48;5;10;38;5;21mtoystore\u001b[0m/\r\n",
      "\u001b[48;5;10;38;5;21mgym\u001b[0m/             training_labels.npy\r\n",
      "\u001b[48;5;10;38;5;21mkitchen\u001b[0m/         vgg16_Places365_model_features_for_training_images.npy\r\n"
     ]
    }
   ],
   "source": [
    "ls ./dataset/train/"
   ]
  },
  {
   "cell_type": "code",
   "execution_count": 5,
   "metadata": {
    "hidden": true
   },
   "outputs": [
    {
     "name": "stdout",
     "output_type": "stream",
     "text": [
      "\u001b[0m\u001b[48;5;10;38;5;21mairport_inside\u001b[0m/  \u001b[48;5;10;38;5;21mbedroom\u001b[0m/     \u001b[48;5;10;38;5;21mgym\u001b[0m/      \u001b[48;5;10;38;5;21moperating_room\u001b[0m/  \u001b[48;5;10;38;5;21mrestaurant\u001b[0m/\r\n",
      "\u001b[48;5;10;38;5;21mbakery\u001b[0m/          \u001b[48;5;10;38;5;21mgreenhouse\u001b[0m/  \u001b[48;5;10;38;5;21mkitchen\u001b[0m/  \u001b[48;5;10;38;5;21mpoolinside\u001b[0m/      \u001b[48;5;10;38;5;21mtoystore\u001b[0m/\r\n"
     ]
    }
   ],
   "source": [
    "ls ./dataset/new_val/"
   ]
  },
  {
   "cell_type": "code",
   "execution_count": 6,
   "metadata": {
    "hidden": true
   },
   "outputs": [
    {
     "name": "stdout",
     "output_type": "stream",
     "text": [
      "\u001b[0m\u001b[48;5;10;38;5;21mairport_inside\u001b[0m/  \u001b[48;5;10;38;5;21mbedroom\u001b[0m/     \u001b[48;5;10;38;5;21mgym\u001b[0m/      \u001b[48;5;10;38;5;21moperating_room\u001b[0m/  \u001b[48;5;10;38;5;21mrestaurant\u001b[0m/\r\n",
      "\u001b[48;5;10;38;5;21mbakery\u001b[0m/          \u001b[48;5;10;38;5;21mgreenhouse\u001b[0m/  \u001b[48;5;10;38;5;21mkitchen\u001b[0m/  \u001b[48;5;10;38;5;21mpool_inside\u001b[0m/     \u001b[48;5;10;38;5;21mtoy_store\u001b[0m/\r\n"
     ]
    }
   ],
   "source": [
    "ls ./dataset/new_train/"
   ]
  },
  {
   "cell_type": "markdown",
   "metadata": {},
   "source": [
    "# import needed libs"
   ]
  },
  {
   "cell_type": "code",
   "execution_count": 1,
   "metadata": {},
   "outputs": [],
   "source": [
    "import warnings\n",
    "warnings.filterwarnings('ignore') # for ignoring annoying warnings"
   ]
  },
  {
   "cell_type": "code",
   "execution_count": 72,
   "metadata": {},
   "outputs": [],
   "source": [
    "import os, glob, pandas as pd\n",
    "import numpy as np\n",
    "from PIL import Image\n",
    "import cv2\n",
    "from keras import backend as K\n",
    "from keras.utils import multi_gpu_model\n",
    "from keras.preprocessing.image import ImageDataGenerator\n",
    "from Keras_Application_Zoo.vgg16_places_365 import VGG16_Places365 # pretrained model on MIT places 2 dataset \n",
    "from keras.optimizers import Adam\n",
    "from utils import get_classes_weight, to_one_hot#, input_image, get_top_prediction\n",
    "from keras.callbacks import LearningRateScheduler, CSVLogger, EarlyStopping, ModelCheckpoint, TensorBoard\n",
    "from keras.utils import multi_gpu_model\n",
    "from keras.models import Model, Sequential\n",
    "from keras.layers import Dense, Activation, GlobalAveragePooling2D,GlobalMaxPool2D, Dropout, BatchNormalization, Flatten, Input\n",
    "from keras.layers.advanced_activations import LeakyReLU\n",
    "import sklearn\n",
    "import tensorflow as tf\n",
    "import matplotlib.pyplot as plt"
   ]
  },
  {
   "cell_type": "markdown",
   "metadata": {},
   "source": [
    "# model / input configuration parameters"
   ]
  },
  {
   "cell_type": "code",
   "execution_count": 82,
   "metadata": {},
   "outputs": [],
   "source": [
    "# this parameters dictionary will hold all the static configuration needed\n",
    "parameters = {\n",
    "    'input_height' : 224,\n",
    "    'input_width'  : 224, \n",
    "    'input_channel' : 3,\n",
    "    'input_shape' : (224,224,3),\n",
    "    'color_mode':'rgb',\n",
    "    'batch_size'  : 128,\n",
    "    'nb_classes' : 10,\n",
    "    'epochs' : 100,\n",
    "    'Dataset' : './dataset/',\n",
    "    'train_Dataset' : './dataset/train/',\n",
    "    'Validation_split': 0.2,\n",
    "    'validation_Dataset' : './dataset/new_val/',\n",
    "    'test_Dataset' : './dataset/test/'\n",
    "}"
   ]
  },
  {
   "cell_type": "markdown",
   "metadata": {},
   "source": [
    "# Keras Image Datagenerator \n",
    "* if we intend to use images instead of extract its features all at once\n",
    "* won't use it for now we will only use it for getting class weights "
   ]
  },
  {
   "cell_type": "markdown",
   "metadata": {
    "heading_collapsed": true
   },
   "source": [
    "## specifying augmentation parameters"
   ]
  },
  {
   "cell_type": "code",
   "execution_count": 4,
   "metadata": {
    "hidden": true
   },
   "outputs": [],
   "source": [
    "train_datagen = ImageDataGenerator(rescale=1./255,\n",
    "#                                    horizontal_flip=True,\n",
    "                                   validation_split=0.2\n",
    "                                  )\n",
    "\n",
    "validation_datagen = ImageDataGenerator(rescale=1./255,\n",
    "#                                    horizontal_flip=True,\n",
    "                                  )"
   ]
  },
  {
   "cell_type": "markdown",
   "metadata": {
    "heading_collapsed": true
   },
   "source": [
    "## load the images by its labels  "
   ]
  },
  {
   "cell_type": "code",
   "execution_count": 5,
   "metadata": {
    "hidden": true
   },
   "outputs": [
    {
     "name": "stdout",
     "output_type": "stream",
     "text": [
      "Found 2513 images belonging to 10 classes.\n",
      "Found 625 images belonging to 10 classes.\n"
     ]
    }
   ],
   "source": [
    "train_generator = train_datagen.flow_from_directory(\n",
    "    parameters['train_Dataset'],\n",
    "    target_size=(parameters['input_height'],parameters['input_width']),\n",
    "    batch_size=parameters['batch_size'],\n",
    "    shuffle=True,subset='training',\n",
    "    class_mode='categorical', color_mode =parameters['color_mode']) # set as training data\n",
    "\n",
    "valid_generator = train_datagen.flow_from_directory(\n",
    "    parameters['train_Dataset'],\n",
    "    target_size=(parameters['input_height'],parameters['input_width']),\n",
    "    batch_size=parameters['batch_size'],subset='validation',\n",
    "    class_mode='categorical', color_mode =parameters['color_mode']) # set as validation data\n"
   ]
  },
  {
   "cell_type": "markdown",
   "metadata": {
    "heading_collapsed": true
   },
   "source": [
    "## calculate the classes weights from generator in case of unblanced data"
   ]
  },
  {
   "cell_type": "code",
   "execution_count": 6,
   "metadata": {
    "hidden": true
   },
   "outputs": [],
   "source": [
    "class_weights = get_classes_weight(train_generator)"
   ]
  },
  {
   "cell_type": "code",
   "execution_count": 7,
   "metadata": {
    "hidden": true
   },
   "outputs": [
    {
     "data": {
      "text/plain": [
       "{0: 1.2076923076923076,\n",
       " 1: 1.8115384615384615,\n",
       " 2: 1.1108490566037736,\n",
       " 3: 7.246153846153846,\n",
       " 4: 3.1824324324324325,\n",
       " 5: 1.0,\n",
       " 6: 5.119565217391305,\n",
       " 7: 4.205357142857143,\n",
       " 8: 1.43161094224924,\n",
       " 9: 2.1216216216216215}"
      ]
     },
     "execution_count": 7,
     "metadata": {},
     "output_type": "execute_result"
    }
   ],
   "source": [
    "class_weights"
   ]
  },
  {
   "cell_type": "markdown",
   "metadata": {},
   "source": [
    "# load [VGG16_Places365](https://github.com/GKalliatakis/Keras-Application-Zoo/blob/master/vgg16_places_365.py) Pretrained model on [MIT PLACES 2](http://places2.csail.mit.edu/) dataset"
   ]
  },
  {
   "cell_type": "markdown",
   "metadata": {},
   "source": [
    "##  [MIT PLACES 2](http://places2.csail.mit.edu/) dataset have 365 classes and our task have 10 classes only, so we will transfare the learning from [VGG16_Places365](https://github.com/GKalliatakis/Keras-Application-Zoo/blob/master/vgg16_places_365.py) by using it to extract the important features that had been learned from our dataset which is a subset from MIT PLACES2  "
   ]
  },
  {
   "cell_type": "code",
   "execution_count": 8,
   "metadata": {},
   "outputs": [
    {
     "name": "stdout",
     "output_type": "stream",
     "text": [
      "WARNING:tensorflow:From /usr/lib/python3.6/site-packages/tensorflow/python/framework/op_def_library.py:263: colocate_with (from tensorflow.python.framework.ops) is deprecated and will be removed in a future version.\n",
      "Instructions for updating:\n",
      "Colocations handled automatically by placer.\n"
     ]
    }
   ],
   "source": [
    "vgg16_Places365_model_for_features_extraction = VGG16_Places365(weights='places', include_top=False, input_shape=parameters['input_shape'], pooling='avg')"
   ]
  },
  {
   "cell_type": "markdown",
   "metadata": {},
   "source": [
    "## take a look at model structure"
   ]
  },
  {
   "cell_type": "code",
   "execution_count": 9,
   "metadata": {},
   "outputs": [
    {
     "name": "stdout",
     "output_type": "stream",
     "text": [
      "Model: \"vgg16-places365\"\n",
      "_________________________________________________________________\n",
      "Layer (type)                 Output Shape              Param #   \n",
      "=================================================================\n",
      "input_1 (InputLayer)         (None, 224, 224, 3)       0         \n",
      "_________________________________________________________________\n",
      "block1_conv1 (Conv2D)        (None, 224, 224, 64)      1792      \n",
      "_________________________________________________________________\n",
      "block1_conv2 (Conv2D)        (None, 224, 224, 64)      36928     \n",
      "_________________________________________________________________\n",
      "block1_pool (MaxPooling2D)   (None, 112, 112, 64)      0         \n",
      "_________________________________________________________________\n",
      "block2_conv1 (Conv2D)        (None, 112, 112, 128)     73856     \n",
      "_________________________________________________________________\n",
      "block2_conv2 (Conv2D)        (None, 112, 112, 128)     147584    \n",
      "_________________________________________________________________\n",
      "block2_pool (MaxPooling2D)   (None, 56, 56, 128)       0         \n",
      "_________________________________________________________________\n",
      "block3_conv1 (Conv2D)        (None, 56, 56, 256)       295168    \n",
      "_________________________________________________________________\n",
      "block3_conv2 (Conv2D)        (None, 56, 56, 256)       590080    \n",
      "_________________________________________________________________\n",
      "block3_conv3 (Conv2D)        (None, 56, 56, 256)       590080    \n",
      "_________________________________________________________________\n",
      "block3_pool (MaxPooling2D)   (None, 28, 28, 256)       0         \n",
      "_________________________________________________________________\n",
      "block4_conv1 (Conv2D)        (None, 28, 28, 512)       1180160   \n",
      "_________________________________________________________________\n",
      "block4_conv2 (Conv2D)        (None, 28, 28, 512)       2359808   \n",
      "_________________________________________________________________\n",
      "block4_conv3 (Conv2D)        (None, 28, 28, 512)       2359808   \n",
      "_________________________________________________________________\n",
      "block4_pool (MaxPooling2D)   (None, 14, 14, 512)       0         \n",
      "_________________________________________________________________\n",
      "block5_conv1 (Conv2D)        (None, 14, 14, 512)       2359808   \n",
      "_________________________________________________________________\n",
      "block5_conv2 (Conv2D)        (None, 14, 14, 512)       2359808   \n",
      "_________________________________________________________________\n",
      "block5_conv3 (Conv2D)        (None, 14, 14, 512)       2359808   \n",
      "_________________________________________________________________\n",
      "block5_pool (MaxPooling2D)   (None, 7, 7, 512)         0         \n",
      "_________________________________________________________________\n",
      "global_average_pooling2d_1 ( (None, 512)               0         \n",
      "=================================================================\n",
      "Total params: 14,714,688\n",
      "Trainable params: 14,714,688\n",
      "Non-trainable params: 0\n",
      "_________________________________________________________________\n"
     ]
    }
   ],
   "source": [
    "vgg16_Places365_model_for_features_extraction.summary()"
   ]
  },
  {
   "cell_type": "markdown",
   "metadata": {},
   "source": [
    "## freeze the VGG16_Places365 Pretrained model so it won't update its weights while transfering learning process \n",
    " * that's in case if we gonna add top layers and flow the data as end to end process"
   ]
  },
  {
   "cell_type": "code",
   "execution_count": 10,
   "metadata": {},
   "outputs": [],
   "source": [
    "vgg16_Places365_model_for_features_extraction.trainable=False\n",
    "for i in range(len(vgg16_Places365_model_for_features_extraction.layers)):\n",
    "    vgg16_Places365_model_for_features_extraction.layers[i].trainable = False"
   ]
  },
  {
   "cell_type": "markdown",
   "metadata": {},
   "source": [
    "# loop over the training examples and extract the features for each example\n",
    "* that would save time instead of feeding all data each epoch and extract the features"
   ]
  },
  {
   "cell_type": "code",
   "execution_count": 13,
   "metadata": {},
   "outputs": [],
   "source": [
    "# implement our image data / label containers\n",
    "imagesFeaturesList , imageLabelList = [], []"
   ]
  },
  {
   "cell_type": "code",
   "execution_count": 14,
   "metadata": {},
   "outputs": [
    {
     "name": "stdout",
     "output_type": "stream",
     "text": [
      "OpenCV(4.2.0) /io/opencv/modules/imgproc/src/resize.cpp:4045: error: (-215:Assertion failed) !ssize.empty() in function 'resize'\n",
      "\n",
      "something went wrong with  ./dataset/train/poolinside/indooPool_Inside_gif.jpg\n"
     ]
    }
   ],
   "source": [
    "# loop over our train dataset and load the images and labels \n",
    "# we can extract features at the same step \n",
    "rootdir = parameters['train_Dataset']\n",
    "for i , (subdir, dirs, files) in enumerate(os.walk(rootdir)):\n",
    "    for file in files:\n",
    "        image_file = os.path.join(subdir, file) \n",
    "        # for each jpg or png image load it and feed it to the pretrained model and save its features output \n",
    "        if(image_file.split('.')[-1].lower() == 'jpg') or (image_file.split('.')[-1] == 'png'):                                        \n",
    "            image_label = image_file.split('/')[-2]\n",
    "            image_label_index = data_labels.index(image_label)\n",
    "            try:\n",
    "                image = cv2.resize(cv2.imread(image_file), (parameters['input_height'],parameters['input_width']))\n",
    "                image = cv2.cvtColor(image, cv2.COLOR_BGR2RGB)\n",
    "                image_as_batch = np.expand_dims(image,axis=0)\n",
    "                imagesFeaturesList.append(np.squeeze(vgg16_Places365_model_for_features_extraction.predict(image_as_batch),axis=0))\n",
    "                imageLabelList.append(image_label_index)\n",
    "            except Exception as e:\n",
    "                print(e)\n",
    "                print(\"something went wrong with \",image_file)\n"
   ]
  },
  {
   "cell_type": "markdown",
   "metadata": {},
   "source": [
    "# convert the train images features list and train label lists to Numpy arrays so we can train our top layers for classify them to our target classes"
   ]
  },
  {
   "cell_type": "code",
   "execution_count": 15,
   "metadata": {},
   "outputs": [],
   "source": [
    "imagesFeaturesArray = np.array(imagesFeaturesList)"
   ]
  },
  {
   "cell_type": "markdown",
   "metadata": {},
   "source": [
    "## convert label array from label index to one hot tensor"
   ]
  },
  {
   "cell_type": "code",
   "execution_count": 16,
   "metadata": {},
   "outputs": [],
   "source": [
    "imageLabelArray = tf.one_hot(imageLabelList, parameters['nb_classes'])  # output: [3 x 3]\n"
   ]
  },
  {
   "cell_type": "markdown",
   "metadata": {},
   "source": [
    "## convert tf one hot tensor to numpy array again "
   ]
  },
  {
   "cell_type": "code",
   "execution_count": 18,
   "metadata": {},
   "outputs": [],
   "source": [
    "imageLabelArray\n",
    "sess = tf.Session()\n",
    "with sess.as_default():\n",
    "    imageLabelArray = imageLabelArray.eval()"
   ]
  },
  {
   "cell_type": "markdown",
   "metadata": {},
   "source": [
    "# shuffle our training dataset "
   ]
  },
  {
   "cell_type": "code",
   "execution_count": 30,
   "metadata": {},
   "outputs": [],
   "source": [
    "imagesFeaturesArray, imageLabelArray = sklearn.utils.shuffle(imagesFeaturesArray, imageLabelArray)\n"
   ]
  },
  {
   "cell_type": "markdown",
   "metadata": {},
   "source": [
    "## save extracted features and corrosponding labels for later use or continue training "
   ]
  },
  {
   "cell_type": "code",
   "execution_count": 22,
   "metadata": {},
   "outputs": [],
   "source": [
    "np.save('./dataset/train/vgg16_Places365_model_features_for_training_images.npy', imagesFeaturesArray)\n",
    "np.save('./dataset/train/training_labels.npy', imageLabelArray)"
   ]
  },
  {
   "cell_type": "markdown",
   "metadata": {},
   "source": [
    "# add our top layers to predict withen the 10 classes we have"
   ]
  },
  {
   "cell_type": "code",
   "execution_count": 23,
   "metadata": {},
   "outputs": [
    {
     "name": "stdout",
     "output_type": "stream",
     "text": [
      "WARNING:tensorflow:From /usr/lib/python3.6/site-packages/Keras-2.2.5-py3.6.egg/keras/backend/tensorflow_backend.py:3733: calling dropout (from tensorflow.python.ops.nn_ops) with keep_prob is deprecated and will be removed in a future version.\n",
      "Instructions for updating:\n",
      "Please use `rate` instead of `keep_prob`. Rate should be set to `rate = 1 - keep_prob`.\n"
     ]
    }
   ],
   "source": [
    "# specify input shape\n",
    "input_layer = Input(shape=imagesFeaturesArray.shape[1:])\n",
    "# add first fully connected layer\n",
    "fc1 = Dense(512, activation='relu')(input_layer)\n",
    "# add drop out layer to avoid overfitting\n",
    "fc1_dropout = Dropout(rate=0.5)(fc1)\n",
    "# add third and final fully connected layer\n",
    "fc3 = Dense(parameters['nb_classes'], activation='softmax')(fc1_dropout)\n",
    "# form our top layers model\n",
    "_10_scenes_classification_model= Model(input=input_layer, output=fc3)"
   ]
  },
  {
   "cell_type": "markdown",
   "metadata": {},
   "source": [
    "## take a look for top layers summary"
   ]
  },
  {
   "cell_type": "code",
   "execution_count": 24,
   "metadata": {},
   "outputs": [
    {
     "name": "stdout",
     "output_type": "stream",
     "text": [
      "Model: \"model_1\"\n",
      "_________________________________________________________________\n",
      "Layer (type)                 Output Shape              Param #   \n",
      "=================================================================\n",
      "input_2 (InputLayer)         (None, 512)               0         \n",
      "_________________________________________________________________\n",
      "dense_1 (Dense)              (None, 512)               262656    \n",
      "_________________________________________________________________\n",
      "dropout_1 (Dropout)          (None, 512)               0         \n",
      "_________________________________________________________________\n",
      "dense_2 (Dense)              (None, 10)                5130      \n",
      "=================================================================\n",
      "Total params: 267,786\n",
      "Trainable params: 267,786\n",
      "Non-trainable params: 0\n",
      "_________________________________________________________________\n"
     ]
    }
   ],
   "source": [
    "_10_scenes_classification_model.summary()"
   ]
  },
  {
   "cell_type": "markdown",
   "metadata": {},
   "source": [
    "## compile the model with the desired optimization algorithm and loss function"
   ]
  },
  {
   "cell_type": "code",
   "execution_count": 25,
   "metadata": {},
   "outputs": [],
   "source": [
    "# _10_scenes_classification_model_multiGPU = multi_gpu_model(_10_scenes_classification_model, gpus=4)\n",
    "_10_scenes_classification_model.compile(loss='categorical_crossentropy',\n",
    "              optimizer=Adam(0.001),\n",
    "              metrics=['accuracy'])"
   ]
  },
  {
   "cell_type": "markdown",
   "metadata": {},
   "source": [
    "### train the top layers/ model on extracted features from the Places pretrained model"
   ]
  },
  {
   "cell_type": "code",
   "execution_count": 31,
   "metadata": {
    "collapsed": true
   },
   "outputs": [
    {
     "name": "stdout",
     "output_type": "stream",
     "text": [
      "Train on 2509 samples, validate on 628 samples\n",
      "Epoch 1/100\n",
      "2509/2509 [==============================] - 0s 41us/step - loss: 0.1480 - acc: 0.9904 - val_loss: 0.2093 - val_acc: 0.9889\n",
      "Epoch 2/100\n",
      "2509/2509 [==============================] - 0s 36us/step - loss: 0.1120 - acc: 0.9888 - val_loss: 0.2504 - val_acc: 0.9889\n",
      "Epoch 3/100\n",
      "2509/2509 [==============================] - 0s 33us/step - loss: 0.1749 - acc: 0.9853 - val_loss: 0.2032 - val_acc: 0.9920\n",
      "Epoch 4/100\n",
      "2509/2509 [==============================] - 0s 33us/step - loss: 0.1226 - acc: 0.9872 - val_loss: 0.1636 - val_acc: 0.9920\n",
      "Epoch 5/100\n",
      "2509/2509 [==============================] - 0s 32us/step - loss: 0.1157 - acc: 0.9868 - val_loss: 0.1309 - val_acc: 0.9904\n",
      "Epoch 6/100\n",
      "2509/2509 [==============================] - 0s 32us/step - loss: 0.1338 - acc: 0.9900 - val_loss: 0.2057 - val_acc: 0.9873\n",
      "Epoch 7/100\n",
      "2509/2509 [==============================] - 0s 34us/step - loss: 0.0647 - acc: 0.9908 - val_loss: 0.2210 - val_acc: 0.9889\n",
      "Epoch 8/100\n",
      "2509/2509 [==============================] - 0s 36us/step - loss: 0.0565 - acc: 0.9928 - val_loss: 0.2259 - val_acc: 0.9936\n",
      "Epoch 9/100\n",
      "2509/2509 [==============================] - 0s 32us/step - loss: 0.0608 - acc: 0.9936 - val_loss: 0.2118 - val_acc: 0.9889\n",
      "Epoch 10/100\n",
      "2509/2509 [==============================] - 0s 29us/step - loss: 0.0473 - acc: 0.9920 - val_loss: 0.2216 - val_acc: 0.9857\n",
      "Epoch 11/100\n",
      "2509/2509 [==============================] - 0s 28us/step - loss: 0.0500 - acc: 0.9912 - val_loss: 0.2635 - val_acc: 0.9857\n",
      "Epoch 12/100\n",
      "2509/2509 [==============================] - 0s 29us/step - loss: 0.0983 - acc: 0.9880 - val_loss: 0.2052 - val_acc: 0.9904\n",
      "Epoch 13/100\n",
      "2509/2509 [==============================] - 0s 35us/step - loss: 0.0409 - acc: 0.9936 - val_loss: 0.2042 - val_acc: 0.9841\n",
      "Epoch 14/100\n",
      "2509/2509 [==============================] - 0s 30us/step - loss: 0.0773 - acc: 0.9908 - val_loss: 0.2046 - val_acc: 0.9873\n",
      "Epoch 15/100\n",
      "2509/2509 [==============================] - 0s 29us/step - loss: 0.0616 - acc: 0.9904 - val_loss: 0.2178 - val_acc: 0.9889\n",
      "Epoch 16/100\n",
      "2509/2509 [==============================] - 0s 29us/step - loss: 0.0312 - acc: 0.9932 - val_loss: 0.3812 - val_acc: 0.9825\n",
      "Epoch 17/100\n",
      "2509/2509 [==============================] - 0s 29us/step - loss: 0.0551 - acc: 0.9900 - val_loss: 0.2392 - val_acc: 0.9920\n",
      "Epoch 18/100\n",
      "2509/2509 [==============================] - 0s 29us/step - loss: 0.0259 - acc: 0.9960 - val_loss: 0.2591 - val_acc: 0.9889\n",
      "Epoch 19/100\n",
      "2509/2509 [==============================] - 0s 29us/step - loss: 0.0294 - acc: 0.9952 - val_loss: 0.2377 - val_acc: 0.9904\n",
      "Epoch 20/100\n",
      "2509/2509 [==============================] - 0s 29us/step - loss: 0.0168 - acc: 0.9960 - val_loss: 0.2464 - val_acc: 0.9904\n",
      "Epoch 21/100\n",
      "2509/2509 [==============================] - 0s 29us/step - loss: 0.0298 - acc: 0.9960 - val_loss: 0.2290 - val_acc: 0.9889\n",
      "Epoch 22/100\n",
      "2509/2509 [==============================] - 0s 28us/step - loss: 0.0327 - acc: 0.9964 - val_loss: 0.2557 - val_acc: 0.9873\n",
      "Epoch 23/100\n",
      "2509/2509 [==============================] - 0s 28us/step - loss: 0.0235 - acc: 0.9952 - val_loss: 0.2239 - val_acc: 0.9889\n",
      "Epoch 24/100\n",
      "2509/2509 [==============================] - 0s 30us/step - loss: 0.0319 - acc: 0.9944 - val_loss: 0.2301 - val_acc: 0.9920\n",
      "Epoch 25/100\n",
      "2509/2509 [==============================] - 0s 34us/step - loss: 0.0160 - acc: 0.9976 - val_loss: 0.2237 - val_acc: 0.9873\n",
      "Epoch 26/100\n",
      "2509/2509 [==============================] - 0s 30us/step - loss: 0.0538 - acc: 0.9948 - val_loss: 0.1780 - val_acc: 0.9936\n",
      "Epoch 27/100\n",
      "2509/2509 [==============================] - 0s 32us/step - loss: 0.0703 - acc: 0.9936 - val_loss: 0.2231 - val_acc: 0.9889\n",
      "Epoch 28/100\n",
      "2509/2509 [==============================] - 0s 31us/step - loss: 0.0409 - acc: 0.9940 - val_loss: 0.2506 - val_acc: 0.9857\n",
      "Epoch 29/100\n",
      "2509/2509 [==============================] - 0s 31us/step - loss: 0.0405 - acc: 0.9928 - val_loss: 0.2162 - val_acc: 0.9873\n",
      "Epoch 30/100\n",
      "2509/2509 [==============================] - 0s 36us/step - loss: 0.0301 - acc: 0.9960 - val_loss: 0.2036 - val_acc: 0.9873\n",
      "Epoch 31/100\n",
      "2509/2509 [==============================] - 0s 32us/step - loss: 0.0266 - acc: 0.9940 - val_loss: 0.2006 - val_acc: 0.9889\n",
      "Epoch 32/100\n",
      "2509/2509 [==============================] - 0s 30us/step - loss: 0.0338 - acc: 0.9956 - val_loss: 0.2543 - val_acc: 0.9857\n",
      "Epoch 33/100\n",
      "2509/2509 [==============================] - 0s 30us/step - loss: 0.0408 - acc: 0.9968 - val_loss: 0.2072 - val_acc: 0.9904\n",
      "Epoch 34/100\n",
      "2509/2509 [==============================] - 0s 33us/step - loss: 0.0166 - acc: 0.9972 - val_loss: 0.2284 - val_acc: 0.9889\n",
      "Epoch 35/100\n",
      "2509/2509 [==============================] - 0s 32us/step - loss: 0.0187 - acc: 0.9968 - val_loss: 0.1701 - val_acc: 0.9904\n",
      "Epoch 36/100\n",
      "2509/2509 [==============================] - 0s 32us/step - loss: 0.0219 - acc: 0.9956 - val_loss: 0.1660 - val_acc: 0.9889\n",
      "Epoch 37/100\n",
      "2509/2509 [==============================] - 0s 35us/step - loss: 0.0154 - acc: 0.9976 - val_loss: 0.1911 - val_acc: 0.9873\n",
      "Epoch 38/100\n",
      "2509/2509 [==============================] - 0s 37us/step - loss: 0.0188 - acc: 0.9980 - val_loss: 0.1639 - val_acc: 0.9857\n",
      "Epoch 39/100\n",
      "2509/2509 [==============================] - 0s 37us/step - loss: 0.0171 - acc: 0.9972 - val_loss: 0.1598 - val_acc: 0.9889\n",
      "Epoch 40/100\n",
      "2509/2509 [==============================] - 0s 35us/step - loss: 0.0115 - acc: 0.9984 - val_loss: 0.1845 - val_acc: 0.9904\n",
      "Epoch 41/100\n",
      "2509/2509 [==============================] - 0s 38us/step - loss: 0.0103 - acc: 0.9988 - val_loss: 0.1797 - val_acc: 0.9857\n",
      "Epoch 42/100\n",
      "2509/2509 [==============================] - 0s 32us/step - loss: 0.0146 - acc: 0.9972 - val_loss: 0.1874 - val_acc: 0.9904\n",
      "Epoch 43/100\n",
      "2509/2509 [==============================] - 0s 31us/step - loss: 0.0204 - acc: 0.9976 - val_loss: 0.2100 - val_acc: 0.9841\n",
      "Epoch 44/100\n",
      "2509/2509 [==============================] - 0s 30us/step - loss: 0.0169 - acc: 0.9988 - val_loss: 0.1551 - val_acc: 0.9857\n",
      "Epoch 45/100\n",
      "2509/2509 [==============================] - 0s 32us/step - loss: 0.0221 - acc: 0.9952 - val_loss: 0.1678 - val_acc: 0.9889\n",
      "Epoch 46/100\n",
      "2509/2509 [==============================] - 0s 36us/step - loss: 0.0118 - acc: 0.9988 - val_loss: 0.1808 - val_acc: 0.9904\n",
      "Epoch 47/100\n",
      "2509/2509 [==============================] - 0s 36us/step - loss: 0.0209 - acc: 0.9964 - val_loss: 0.1769 - val_acc: 0.9904\n",
      "Epoch 48/100\n",
      "2509/2509 [==============================] - 0s 33us/step - loss: 0.0592 - acc: 0.9960 - val_loss: 0.2540 - val_acc: 0.9825\n",
      "Epoch 49/100\n",
      "2509/2509 [==============================] - 0s 32us/step - loss: 0.0232 - acc: 0.9968 - val_loss: 0.1845 - val_acc: 0.9841\n",
      "Epoch 50/100\n",
      "2509/2509 [==============================] - 0s 33us/step - loss: 0.0179 - acc: 0.9976 - val_loss: 0.2105 - val_acc: 0.9873\n",
      "Epoch 51/100\n",
      "2509/2509 [==============================] - 0s 34us/step - loss: 0.0265 - acc: 0.9972 - val_loss: 0.2136 - val_acc: 0.9841\n",
      "Epoch 52/100\n",
      "2509/2509 [==============================] - 0s 31us/step - loss: 0.0210 - acc: 0.9964 - val_loss: 0.1790 - val_acc: 0.9857\n",
      "Epoch 53/100\n",
      "2509/2509 [==============================] - 0s 30us/step - loss: 0.0111 - acc: 0.9984 - val_loss: 0.1735 - val_acc: 0.9889\n",
      "Epoch 54/100\n",
      "2509/2509 [==============================] - 0s 29us/step - loss: 0.0089 - acc: 0.9992 - val_loss: 0.1670 - val_acc: 0.9920\n",
      "Epoch 55/100\n",
      "2509/2509 [==============================] - 0s 30us/step - loss: 0.0126 - acc: 0.9988 - val_loss: 0.1537 - val_acc: 0.9904\n",
      "Epoch 56/100\n",
      "2509/2509 [==============================] - 0s 28us/step - loss: 0.0156 - acc: 0.9980 - val_loss: 0.1463 - val_acc: 0.9857\n",
      "Epoch 57/100\n",
      "2509/2509 [==============================] - 0s 29us/step - loss: 0.0176 - acc: 0.9968 - val_loss: 0.2242 - val_acc: 0.9889\n",
      "Epoch 58/100\n",
      "2509/2509 [==============================] - 0s 31us/step - loss: 0.0149 - acc: 0.9980 - val_loss: 0.2136 - val_acc: 0.9920\n",
      "Epoch 59/100\n",
      "2509/2509 [==============================] - 0s 31us/step - loss: 0.0119 - acc: 0.9984 - val_loss: 0.2037 - val_acc: 0.9873\n",
      "Epoch 60/100\n"
     ]
    },
    {
     "name": "stdout",
     "output_type": "stream",
     "text": [
      "2509/2509 [==============================] - 0s 30us/step - loss: 0.0198 - acc: 0.9964 - val_loss: 0.1285 - val_acc: 0.9920\n",
      "Epoch 61/100\n",
      "2509/2509 [==============================] - 0s 31us/step - loss: 0.0410 - acc: 0.9956 - val_loss: 0.1288 - val_acc: 0.9889\n",
      "Epoch 62/100\n",
      "2509/2509 [==============================] - 0s 32us/step - loss: 0.0164 - acc: 0.9980 - val_loss: 0.1311 - val_acc: 0.9889\n",
      "Epoch 63/100\n",
      "2509/2509 [==============================] - 0s 30us/step - loss: 0.0119 - acc: 0.9980 - val_loss: 0.0976 - val_acc: 0.9920\n",
      "Epoch 64/100\n",
      "2509/2509 [==============================] - 0s 32us/step - loss: 0.0149 - acc: 0.9976 - val_loss: 0.1205 - val_acc: 0.9904\n",
      "Epoch 65/100\n",
      "2509/2509 [==============================] - 0s 33us/step - loss: 0.0227 - acc: 0.9964 - val_loss: 0.1286 - val_acc: 0.9920\n",
      "Epoch 66/100\n",
      "2509/2509 [==============================] - 0s 32us/step - loss: 0.0436 - acc: 0.9944 - val_loss: 0.1868 - val_acc: 0.9873\n",
      "Epoch 67/100\n",
      "2509/2509 [==============================] - 0s 31us/step - loss: 0.0447 - acc: 0.9964 - val_loss: 0.1395 - val_acc: 0.9904\n",
      "Epoch 68/100\n",
      "2509/2509 [==============================] - 0s 31us/step - loss: 0.0260 - acc: 0.9956 - val_loss: 0.1799 - val_acc: 0.9889\n",
      "Epoch 69/100\n",
      "2509/2509 [==============================] - 0s 34us/step - loss: 0.0192 - acc: 0.9964 - val_loss: 0.1916 - val_acc: 0.9920\n",
      "Epoch 70/100\n",
      "2509/2509 [==============================] - 0s 32us/step - loss: 0.0182 - acc: 0.9964 - val_loss: 0.1813 - val_acc: 0.9936\n",
      "Epoch 71/100\n",
      "2509/2509 [==============================] - 0s 30us/step - loss: 0.0142 - acc: 0.9980 - val_loss: 0.1605 - val_acc: 0.9936\n",
      "Epoch 72/100\n",
      "2509/2509 [==============================] - 0s 31us/step - loss: 0.0117 - acc: 0.9976 - val_loss: 0.1558 - val_acc: 0.9873\n",
      "Epoch 73/100\n",
      "2509/2509 [==============================] - 0s 31us/step - loss: 0.0193 - acc: 0.9968 - val_loss: 0.1824 - val_acc: 0.9889\n",
      "Epoch 74/100\n",
      "2509/2509 [==============================] - 0s 33us/step - loss: 0.0294 - acc: 0.9980 - val_loss: 0.2298 - val_acc: 0.9920\n",
      "Epoch 75/100\n",
      "2509/2509 [==============================] - 0s 32us/step - loss: 0.0232 - acc: 0.9972 - val_loss: 0.2822 - val_acc: 0.9857\n",
      "Epoch 76/100\n",
      "2509/2509 [==============================] - 0s 29us/step - loss: 0.0135 - acc: 0.9976 - val_loss: 0.2868 - val_acc: 0.9873\n",
      "Epoch 77/100\n",
      "2509/2509 [==============================] - 0s 30us/step - loss: 0.0208 - acc: 0.9964 - val_loss: 0.2384 - val_acc: 0.9904\n",
      "Epoch 78/100\n",
      "2509/2509 [==============================] - 0s 31us/step - loss: 0.0211 - acc: 0.9964 - val_loss: 0.2262 - val_acc: 0.9889\n",
      "Epoch 79/100\n",
      "2509/2509 [==============================] - 0s 31us/step - loss: 0.0122 - acc: 0.9988 - val_loss: 0.2118 - val_acc: 0.9904\n",
      "Epoch 80/100\n",
      "2509/2509 [==============================] - 0s 30us/step - loss: 0.0178 - acc: 0.9976 - val_loss: 0.2153 - val_acc: 0.9857\n",
      "Epoch 81/100\n",
      "2509/2509 [==============================] - 0s 32us/step - loss: 0.0185 - acc: 0.9976 - val_loss: 0.2139 - val_acc: 0.9857\n",
      "Epoch 82/100\n",
      "2509/2509 [==============================] - 0s 28us/step - loss: 0.0132 - acc: 0.9984 - val_loss: 0.2419 - val_acc: 0.9889\n",
      "Epoch 83/100\n",
      "2509/2509 [==============================] - 0s 30us/step - loss: 0.0140 - acc: 0.9972 - val_loss: 0.2495 - val_acc: 0.9873\n",
      "Epoch 84/100\n",
      "2509/2509 [==============================] - 0s 32us/step - loss: 0.0136 - acc: 0.9976 - val_loss: 0.2537 - val_acc: 0.9873\n",
      "Epoch 85/100\n",
      "2509/2509 [==============================] - 0s 34us/step - loss: 0.0183 - acc: 0.9980 - val_loss: 0.3127 - val_acc: 0.9825\n",
      "Epoch 86/100\n",
      "2509/2509 [==============================] - 0s 31us/step - loss: 0.0149 - acc: 0.9976 - val_loss: 0.2403 - val_acc: 0.9825\n",
      "Epoch 87/100\n",
      "2509/2509 [==============================] - 0s 29us/step - loss: 0.0225 - acc: 0.9968 - val_loss: 0.2093 - val_acc: 0.9889\n",
      "Epoch 88/100\n",
      "2509/2509 [==============================] - 0s 29us/step - loss: 0.0174 - acc: 0.9976 - val_loss: 0.1948 - val_acc: 0.9873\n",
      "Epoch 89/100\n",
      "2509/2509 [==============================] - 0s 31us/step - loss: 0.0142 - acc: 0.9976 - val_loss: 0.1955 - val_acc: 0.9904\n",
      "Epoch 90/100\n",
      "2509/2509 [==============================] - 0s 32us/step - loss: 0.0211 - acc: 0.9972 - val_loss: 0.1590 - val_acc: 0.9825\n",
      "Epoch 91/100\n",
      "2509/2509 [==============================] - 0s 31us/step - loss: 0.0203 - acc: 0.9964 - val_loss: 0.1641 - val_acc: 0.9889\n",
      "Epoch 92/100\n",
      "2509/2509 [==============================] - 0s 31us/step - loss: 0.0221 - acc: 0.9972 - val_loss: 0.1434 - val_acc: 0.9857\n",
      "Epoch 93/100\n",
      "2509/2509 [==============================] - 0s 29us/step - loss: 0.0332 - acc: 0.9944 - val_loss: 0.2220 - val_acc: 0.9809\n",
      "Epoch 94/100\n",
      "2509/2509 [==============================] - 0s 33us/step - loss: 0.0138 - acc: 0.9976 - val_loss: 0.2338 - val_acc: 0.9857\n",
      "Epoch 95/100\n",
      "2509/2509 [==============================] - 0s 30us/step - loss: 0.0192 - acc: 0.9972 - val_loss: 0.1113 - val_acc: 0.9873\n",
      "Epoch 96/100\n",
      "2509/2509 [==============================] - 0s 30us/step - loss: 0.0158 - acc: 0.9976 - val_loss: 0.2610 - val_acc: 0.9857\n",
      "Epoch 97/100\n",
      "2509/2509 [==============================] - 0s 32us/step - loss: 0.0276 - acc: 0.9976 - val_loss: 0.1977 - val_acc: 0.9889\n",
      "Epoch 98/100\n",
      "2509/2509 [==============================] - 0s 33us/step - loss: 0.0196 - acc: 0.9960 - val_loss: 0.1398 - val_acc: 0.9873\n",
      "Epoch 99/100\n",
      "2509/2509 [==============================] - 0s 30us/step - loss: 0.0128 - acc: 0.9984 - val_loss: 0.1561 - val_acc: 0.9889\n",
      "Epoch 100/100\n",
      "2509/2509 [==============================] - 0s 31us/step - loss: 0.0211 - acc: 0.9968 - val_loss: 0.1655 - val_acc: 0.9889\n"
     ]
    }
   ],
   "source": [
    "history = _10_scenes_classification_model.fit(\n",
    "    x=imagesFeaturesArray,\n",
    "    y= imageLabelArray,\n",
    "    batch_size=parameters['batch_size'],\n",
    "    validation_split=0.2,\n",
    "    class_weight=class_weights,\n",
    "    workers=16,\n",
    "    use_multiprocessing=True,\n",
    "    shuffle=True,\n",
    "#     steps_per_epoch=imagesFeaturesArray.shape[0] // parameters['batch_size'],\n",
    "    epochs=parameters['epochs'],\n",
    "    callbacks=[ModelCheckpoint('./weights/_10_scenes_classification_model_TOPLAYERONLY.h5',save_best_only=True)])"
   ]
  },
  {
   "cell_type": "markdown",
   "metadata": {},
   "source": [
    "# create the final model formed from freezed pretrained model and our top layers"
   ]
  },
  {
   "cell_type": "code",
   "execution_count": 32,
   "metadata": {},
   "outputs": [],
   "source": [
    "# _10_scenes_classification_model = Model(input=vgg16_Places365_model_for_features_extraction.input, output=fc3)\n",
    "final_10_scenes_classification_model = Sequential()\n",
    "final_10_scenes_classification_model.add(vgg16_Places365_model_for_features_extraction)\n",
    "final_10_scenes_classification_model.add(_10_scenes_classification_model)"
   ]
  },
  {
   "cell_type": "markdown",
   "metadata": {},
   "source": [
    "## take a look at our new arch"
   ]
  },
  {
   "cell_type": "code",
   "execution_count": 33,
   "metadata": {},
   "outputs": [
    {
     "name": "stdout",
     "output_type": "stream",
     "text": [
      "Model: \"sequential_1\"\n",
      "_________________________________________________________________\n",
      "Layer (type)                 Output Shape              Param #   \n",
      "=================================================================\n",
      "vgg16-places365 (Model)      (None, 512)               14714688  \n",
      "_________________________________________________________________\n",
      "model_1 (Model)              (None, 10)                267786    \n",
      "=================================================================\n",
      "Total params: 14,982,474\n",
      "Trainable params: 267,786\n",
      "Non-trainable params: 14,714,688\n",
      "_________________________________________________________________\n"
     ]
    }
   ],
   "source": [
    "final_10_scenes_classification_model.summary()"
   ]
  },
  {
   "cell_type": "markdown",
   "metadata": {},
   "source": [
    "# save the final Model Weights"
   ]
  },
  {
   "cell_type": "code",
   "execution_count": 60,
   "metadata": {},
   "outputs": [],
   "source": [
    "final_10_scenes_classification_model.save('./weights/final_10_scenes_classification_model.h5')"
   ]
  },
  {
   "cell_type": "markdown",
   "metadata": {},
   "source": [
    "# predict test images and save the result in csv format"
   ]
  },
  {
   "cell_type": "code",
   "execution_count": 70,
   "metadata": {},
   "outputs": [],
   "source": [
    "# save the test results\n",
    "files_names = []\n",
    "files_classes = []"
   ]
  },
  {
   "cell_type": "markdown",
   "metadata": {},
   "source": [
    "## test the final model on test data "
   ]
  },
  {
   "cell_type": "code",
   "execution_count": 71,
   "metadata": {
    "scrolled": true
   },
   "outputs": [],
   "source": [
    "for image_file in glob.glob('./dataset/test/*.jpg'):\n",
    "    try:\n",
    "        test_image = cv2.cvtColor(cv2.resize(cv2.imread(image_file),(parameters['input_width'],parameters['input_height'])), cv2.COLOR_BGR2RGB)\n",
    "        test_image_as_batch = np.expand_dims(test_image, axis=0)\n",
    "        predictions = final_10_scenes_classification_model.predict(test_image_as_batch)[0]\n",
    "        top_preds = np.argsort(predictions)[::-1][0]\n",
    "            \n",
    "        files_names.append(image_file.split('/')[-1])\n",
    "        files_classes.append(data_labels[top_preds])\n",
    "    except Exception as e:\n",
    "#         print(e, image_file)\n",
    "        files_names.append(image_file.split('/')[-1])\n",
    "        files_classes.append('cannot be loaded! ')"
   ]
  },
  {
   "cell_type": "markdown",
   "metadata": {},
   "source": [
    "## save the result in dataframe then to csv format using pandas"
   ]
  },
  {
   "cell_type": "code",
   "execution_count": 75,
   "metadata": {},
   "outputs": [],
   "source": [
    "data = {'image file name':  files_names,\n",
    "        'class': files_classes}\n",
    "\n",
    "result_dataframe = pd.DataFrame (data, columns = ['image file name','class'])\n"
   ]
  },
  {
   "cell_type": "code",
   "execution_count": 78,
   "metadata": {},
   "outputs": [],
   "source": [
    "result_dataframe.to_csv('./test_result.csv')"
   ]
  },
  {
   "cell_type": "code",
   "execution_count": null,
   "metadata": {},
   "outputs": [],
   "source": []
  }
 ],
 "metadata": {
  "kernelspec": {
   "display_name": "Python 3",
   "language": "python",
   "name": "python3"
  },
  "language_info": {
   "codemirror_mode": {
    "name": "ipython",
    "version": 3
   },
   "file_extension": ".py",
   "mimetype": "text/x-python",
   "name": "python",
   "nbconvert_exporter": "python",
   "pygments_lexer": "ipython3",
   "version": "3.6.8"
  },
  "toc": {
   "base_numbering": 1,
   "nav_menu": {},
   "number_sections": true,
   "sideBar": true,
   "skip_h1_title": false,
   "title_cell": "Table of Contents",
   "title_sidebar": "Contents",
   "toc_cell": false,
   "toc_position": {},
   "toc_section_display": true,
   "toc_window_display": false
  }
 },
 "nbformat": 4,
 "nbformat_minor": 2
}
